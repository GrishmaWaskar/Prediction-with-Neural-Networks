{
 "cells": [
  {
   "cell_type": "code",
   "execution_count": 22,
   "id": "a948d8d2",
   "metadata": {},
   "outputs": [
    {
     "name": "stdout",
     "output_type": "stream",
     "text": [
      "Regression Mean Squared Error: 23.323221357780913\n",
      "Classification Accuracy: 0.9038461538461539\n"
     ]
    }
   ],
   "source": [
    "import numpy as np\n",
    "import pandas as pd\n",
    "from sklearn.model_selection import train_test_split\n",
    "from sklearn.preprocessing import StandardScaler\n",
    "from sklearn.neural_network import MLPRegressor, MLPClassifier\n",
    "from sklearn.metrics import mean_squared_error, accuracy_score\n",
    "\n",
    "# Load the data\n",
    "data = pd.read_csv(\"C:/Users/grish/Downloads/Assignment/Assignment/Project  - 12 Neural Network/forestfires.csv\")  # Make sure to replace 'forest_fire_data.csv' with the actual filename\n",
    "\n",
    "# Preprocess the data for regression\n",
    "X_reg = data.iloc[:, 2:12]  # Features: excluding 'month', 'day', 'week days', and 'year months'\n",
    "y_reg = data['area']  # Target variable: 'area'\n",
    "\n",
    "# Split the data for regression\n",
    "X_reg_train, X_reg_test, y_reg_train, y_reg_test = train_test_split(X_reg, y_reg, test_size=0.2, random_state=42)\n",
    "\n",
    "# Standardize the features for regression\n",
    "scaler_reg = StandardScaler()\n",
    "X_reg_train_scaled = scaler_reg.fit_transform(X_reg_train)\n",
    "X_reg_test_scaled = scaler_reg.transform(X_reg_test)\n",
    "\n",
    "# Build and train the MLP regressor\n",
    "mlp_regressor = MLPRegressor(hidden_layer_sizes=(64, 32), activation='relu', solver='adam', max_iter=1000, random_state=42)\n",
    "mlp_regressor.fit(X_reg_train_scaled, y_reg_train)\n",
    "\n",
    "# Evaluate the MLP regressor\n",
    "regression_predictions = mlp_regressor.predict(X_reg_test_scaled)\n",
    "regression_mse = mean_squared_error(y_reg_test, regression_predictions)\n",
    "print(\"Regression Mean Squared Error:\", regression_mse)\n",
    "\n",
    "# Preprocess the data for classification\n",
    "# Assuming a binary classification task where 'area' is divided into two classes: burned or not burned\n",
    "data['burned'] = data['area'].apply(lambda x: 1 if x > 0 else 0)\n",
    "X_cls = data.iloc[:, 2:12]  # Features: excluding 'month', 'day', 'week days', and 'year months'\n",
    "y_cls = data['burned']  # Target variable: 'burned'\n",
    "\n",
    "# Split the data for classification\n",
    "X_cls_train, X_cls_test, y_cls_train, y_cls_test = train_test_split(X_cls, y_cls, test_size=0.2, random_state=42)\n",
    "\n",
    "# Standardize the features for classification\n",
    "scaler_cls = StandardScaler()\n",
    "X_cls_train_scaled = scaler_cls.fit_transform(X_cls_train)\n",
    "X_cls_test_scaled = scaler_cls.transform(X_cls_test)\n",
    "\n",
    "# Build and train the MLPClassifier\n",
    "mlp_classifier = MLPClassifier(hidden_layer_sizes=(64, 32), activation='relu', solver='adam', max_iter=1000, random_state=42)\n",
    "mlp_classifier.fit(X_cls_train_scaled, y_cls_train)\n",
    "\n",
    "# Evaluate the MLPClassifier\n",
    "classification_predictions = mlp_classifier.predict(X_cls_test_scaled)\n",
    "classification_accuracy = accuracy_score(y_cls_test, classification_predictions)\n",
    "print(\"Classification Accuracy:\", classification_accuracy)"
   ]
  },
  {
   "cell_type": "code",
   "execution_count": null,
   "id": "e30671dc",
   "metadata": {},
   "outputs": [],
   "source": []
  }
 ],
 "metadata": {
  "kernelspec": {
   "display_name": "Python 3 (ipykernel)",
   "language": "python",
   "name": "python3"
  },
  "language_info": {
   "codemirror_mode": {
    "name": "ipython",
    "version": 3
   },
   "file_extension": ".py",
   "mimetype": "text/x-python",
   "name": "python",
   "nbconvert_exporter": "python",
   "pygments_lexer": "ipython3",
   "version": "3.11.4"
  }
 },
 "nbformat": 4,
 "nbformat_minor": 5
}
